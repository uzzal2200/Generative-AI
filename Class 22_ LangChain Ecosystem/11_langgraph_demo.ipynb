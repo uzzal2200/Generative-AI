{
 "cells": [
  {
   "cell_type": "code",
   "execution_count": 1,
   "metadata": {},
   "outputs": [],
   "source": [
    "import os\n",
    "from dotenv import load_dotenv, find_dotenv\n",
    "_ = load_dotenv(find_dotenv())\n",
    "openai_api_key = os.environ[\"OPENAI_API_KEY\"]"
   ]
  },
  {
   "cell_type": "code",
   "execution_count": 2,
   "metadata": {},
   "outputs": [],
   "source": [
    "from langchain_openai import ChatOpenAI\n",
    "\n",
    "llm = ChatOpenAI(model=\"gpt-3.5-turbo\")"
   ]
  },
  {
   "cell_type": "code",
   "execution_count": 3,
   "metadata": {},
   "outputs": [
    {
     "data": {
      "text/plain": [
       "AIMessage(content=\"I'm sorry, but I cannot provide real-time news updates as I am an AI assistant and do not have the ability to access or provide current news information. I recommend checking reputable news sources for the latest updates on the India-Pakistan conflict.\", response_metadata={'token_usage': {'completion_tokens': 49, 'prompt_tokens': 22, 'total_tokens': 71, 'completion_tokens_details': {'accepted_prediction_tokens': 0, 'audio_tokens': 0, 'reasoning_tokens': 0, 'rejected_prediction_tokens': 0}, 'prompt_tokens_details': {'audio_tokens': 0, 'cached_tokens': 0}}, 'model_name': 'gpt-3.5-turbo-0125', 'system_fingerprint': None, 'finish_reason': 'stop', 'logprobs': None}, id='run-26fb2628-bf45-4304-b950-e0077fc03ec3-0', usage_metadata={'input_tokens': 22, 'output_tokens': 49, 'total_tokens': 71})"
      ]
     },
     "execution_count": 3,
     "metadata": {},
     "output_type": "execute_result"
    }
   ],
   "source": [
    "llm.invoke(\"Tell me the lastest news of India and pakistan war in 2025\")"
   ]
  },
  {
   "cell_type": "code",
   "execution_count": 4,
   "metadata": {},
   "outputs": [
    {
     "data": {
      "text/plain": [
       "[{'url': 'https://www.aljazeera.com/news/2025/5/13/no-guardrails-how-india-pakistan-combat-obliterated-old-red-lines',\n",
       "  'content': 'News|India-Pakistan Tensions\\n‘No guardrails’: How India-Pakistan combat obliterated old red lines\\nFrom missiles targeting broad swaths of territory to water as a weapon, the threshold for the next war has been lowered, warn experts.\\n\\nIndian Prime Minister Narendra Modi and Pakistani Army Chief Asim Munir [AP Photo]\\nBy\\xa0Yashraj Sharma\\nPublished On 13 May 202513 May 2025\\nSave articles to read later and create your own reading list.'},\n",
       " {'url': 'https://www.youtube.com/watch?v=2s_awArowRk',\n",
       "  'content': 'DG ISPR warns India - Pak-India War | Headlines Geo News 6 PM (19 May 2025) · Comments.'},\n",
       " {'url': 'https://www.cnn.com/world/live-news/india-pakistan-attack-kashmir-tourists-intl-hnk',\n",
       "  'content': \"Link Copied! \\nHere's the latest on what we know about India's strikes deep inside Pakistan today\\nFrom CNN staff \\nAt least three Indian Air Force planes have been shot down, Pakistani security and government sources have told CNN, in the latest in the latest escalation between the two countries. [...] Link Copied! \\nIndia launched a military operation against Pakistan today. Here's what we know so far\\nFrom CNN's Aditi Sangal [...] Link Copied! \\nIndia and Pakistan are on an increasingly perilous collision course toward full-scale conflict, analysts warn\\nFrom CNN's Rhea Mogul\"}]"
      ]
     },
     "execution_count": 4,
     "metadata": {},
     "output_type": "execute_result"
    }
   ],
   "source": [
    "from langchain_community.tools.tavily_search import TavilySearchResults\n",
    "search = TavilySearchResults(max_results=3)\n",
    "search.invoke(\"Tell me the lastest news of India and pakistan war in 2025\")"
   ]
  },
  {
   "cell_type": "code",
   "execution_count": 5,
   "metadata": {},
   "outputs": [],
   "source": [
    "tools = [search]"
   ]
  },
  {
   "cell_type": "code",
   "execution_count": 6,
   "metadata": {},
   "outputs": [
    {
     "data": {
      "text/plain": [
       "[TavilySearchResults(max_results=3)]"
      ]
     },
     "execution_count": 6,
     "metadata": {},
     "output_type": "execute_result"
    }
   ],
   "source": [
    "tools"
   ]
  },
  {
   "cell_type": "code",
   "execution_count": 7,
   "metadata": {},
   "outputs": [],
   "source": [
    "from langgraph.prebuilt import create_react_agent\n",
    "\n",
    "agent_executor = create_react_agent(llm, tools)"
   ]
  },
  {
   "cell_type": "code",
   "execution_count": 8,
   "metadata": {},
   "outputs": [
    {
     "data": {
      "text/plain": [
       "[HumanMessage(content='Tell me the lastest news of India and pakistan war in 2025', id='54613491-d0a2-4ea3-b01a-9f60a6f5e87e'),\n",
       " AIMessage(content='', additional_kwargs={'tool_calls': [{'id': 'call_s6GGC2s7NxnKzvZngxN1T38b', 'function': {'arguments': '{\"query\":\"India Pakistan war 2025 news\"}', 'name': 'tavily_search_results_json'}, 'type': 'function'}]}, response_metadata={'token_usage': {'completion_tokens': 24, 'prompt_tokens': 96, 'total_tokens': 120, 'completion_tokens_details': {'accepted_prediction_tokens': 0, 'audio_tokens': 0, 'reasoning_tokens': 0, 'rejected_prediction_tokens': 0}, 'prompt_tokens_details': {'audio_tokens': 0, 'cached_tokens': 0}}, 'model_name': 'gpt-3.5-turbo-0125', 'system_fingerprint': None, 'finish_reason': 'tool_calls', 'logprobs': None}, id='run-a1d5638b-43a3-494f-87f6-233e0d721f8e-0', tool_calls=[{'name': 'tavily_search_results_json', 'args': {'query': 'India Pakistan war 2025 news'}, 'id': 'call_s6GGC2s7NxnKzvZngxN1T38b', 'type': 'tool_call'}], usage_metadata={'input_tokens': 96, 'output_tokens': 24, 'total_tokens': 120}),\n",
       " ToolMessage(content='[{\"url\": \"https://en.wikipedia.org/wiki/2025_India%E2%80%93Pakistan_crisis\", \"content\": \"^\\\\\"India-Pakistan conflict: 430 flights cancelled, 27 airports to remain shut in India till May 10\\\\\". Gulf News. IANS. 8 May 2025. Retrieved 8 May 2025.\\\\n^\\\\\"Flights avoid Pakistan airspace after India\\'s pre-dawn missile strikes\\\\\". The Independent. 8 May 2025. Retrieved 8 May 2025.\\\\n^\\\\\"Pakistani stars fire back at India\\'s war talk, call for peace with strength\\\\\". The News. Retrieved 4 May 2025.\\\\n^\\\\\"India-Pakistan conflict: \\'We need to stand united\\'\\\\\". BBC. 9 May 2025. [...] ^\\\\\"Border Tensions Update: Indian Army Responds to Pakistan Firing at LoC\\\\\". Deccan Herald. PTI. 25 April 2025. Retrieved 25 April 2025.\\\\n^\\\\\"India, Pakistan trade gunfire as tensions rise over deadly Kashmir attack\\\\\". Al Jazeera. Archived from the original on 25 April 2025. Retrieved 25 April 2025.\\\\n^\\\\\"Pak troops resorts to unprovoked firing along LoC in 8 sectors across J-K, Indian Army retaliates\\\\\". The Hindu. 6 May 2025. ISSN0971-751X. Retrieved 6 May 2025. [...] ^\\\\\"Another Indian quadcopter shot down by Pakistan Army near LOC\\\\\". The Express Tribune. 29 April 2025. Archived from the original on 29 April 2025. Retrieved 30 April 2025.\\\\n^\\\\\"Pakistan shoots down 2nd Indian quadcopter over airspace violation\\\\\". Xinhua. Retrieved 30 April 2025.\\\\n^Naqash, Tariq (30 April 2025). \\\\\"Two Indian drones shot down near LoC\\\\\". Dawn. Retrieved 30 April 2025.\\\\n^\\\\\"Pakistan defence minister says military incursion by India is imminent\\\\\". Reuters.\"}, {\"url\": \"https://www.indiatoday.in/india/story/india-pakistan-news-operation-sindoor-attack-jammu-border-pahalgam-terrorist-post-2726795-2025-05-19\", \"content\": \"On May 10, Pakistan approached India seeking a ceasefire. Following discussions at the military level, both countries reached an understanding to halt hostilities.Published By: Ajmal Published On: May 19, 2025Tune InMust Watch\\\\n\\\\nIN THIS STORY\\\\n\\\\nAlso Watch\\\\n\\\\nHimanta Sarma Accuses Congress\\' Gaurav Gogoi Of Pakistan Visit On ISI Invitation\\\\n\\\\nIndia\\'s Akash missiles, L-70 guns saved Golden Temple during Pakistan\\'s attack\\\\n\\\\nWatch: Made-in-India armoured jeep used to fire missiles on Pak posts\"}]', name='tavily_search_results_json', id='7206b2fd-1b54-493f-8d54-fcb1b0d34c8d', tool_call_id='call_s6GGC2s7NxnKzvZngxN1T38b'),\n",
       " AIMessage(content='There have been recent developments in the India-Pakistan conflict in 2025. Here are some of the latest news articles:\\n\\n1. [India-Pakistan conflict: 430 flights cancelled, 27 airports to remain shut in India till May 10 - Gulf News](https://en.wikipedia.org/wiki/2025_India%E2%80%93Pakistan_crisis)\\n2. [Pakistan approached India seeking a ceasefire on May 10. Following discussions at the military level, both countries reached an understanding to halt hostilities - India Today](https://www.indiatoday.in/india/story/india-pakistan-news-operation-sindoor-attack-jammu-border-pahalgam-terrorist-post-2726795-2025-05-19)\\n\\nThese articles provide updates on the ongoing tensions and recent developments between India and Pakistan in 2025.', response_metadata={'token_usage': {'completion_tokens': 177, 'prompt_tokens': 750, 'total_tokens': 927, 'completion_tokens_details': {'accepted_prediction_tokens': 0, 'audio_tokens': 0, 'reasoning_tokens': 0, 'rejected_prediction_tokens': 0}, 'prompt_tokens_details': {'audio_tokens': 0, 'cached_tokens': 0}}, 'model_name': 'gpt-3.5-turbo-0125', 'system_fingerprint': None, 'finish_reason': 'stop', 'logprobs': None}, id='run-e2b65f31-4527-48de-9d8c-8d04f5a99200-0', usage_metadata={'input_tokens': 750, 'output_tokens': 177, 'total_tokens': 927})]"
      ]
     },
     "execution_count": 8,
     "metadata": {},
     "output_type": "execute_result"
    }
   ],
   "source": [
    "from langchain_core.messages import HumanMessage\n",
    "\n",
    "response = agent_executor.invoke({\"messages\": [HumanMessage(content=\"Tell me the lastest news of India and pakistan war in 2025\")]})\n",
    "\n",
    "response[\"messages\"]"
   ]
  },
  {
   "cell_type": "code",
   "execution_count": 9,
   "metadata": {},
   "outputs": [
    {
     "data": {
      "text/plain": [
       "[HumanMessage(content='What is Python?', id='e89d8171-03ee-4927-a1b6-176b70f3f7cc'),\n",
       " AIMessage(content='', additional_kwargs={'tool_calls': [{'id': 'call_qRb2Ws2Su12qOfHQG3VZ2e6b', 'function': {'arguments': '{\"query\":\"Python\"}', 'name': 'tavily_search_results_json'}, 'type': 'function'}]}, response_metadata={'token_usage': {'completion_tokens': 18, 'prompt_tokens': 85, 'total_tokens': 103, 'completion_tokens_details': {'accepted_prediction_tokens': 0, 'audio_tokens': 0, 'reasoning_tokens': 0, 'rejected_prediction_tokens': 0}, 'prompt_tokens_details': {'audio_tokens': 0, 'cached_tokens': 0}}, 'model_name': 'gpt-3.5-turbo-0125', 'system_fingerprint': None, 'finish_reason': 'tool_calls', 'logprobs': None}, id='run-601b460a-96e4-418d-b027-3b3c18b11ec5-0', tool_calls=[{'name': 'tavily_search_results_json', 'args': {'query': 'Python'}, 'id': 'call_qRb2Ws2Su12qOfHQG3VZ2e6b', 'type': 'tool_call'}], usage_metadata={'input_tokens': 85, 'output_tokens': 18, 'total_tokens': 103}),\n",
       " ToolMessage(content='[{\"url\": \"https://www.online-python.com/\", \"content\": \"Python, which was initially developed by Guido van Rossum and made available to the public in 1991, is currently one of the most widely used general-purpose programming languages. Python\\'s source code is freely available to the public, and its usage and distribution are unrestricted, including for commercial purposes. It is widely used for web development, and using it, practically anything can be created, including mobile apps, online apps, tools, data analytics, machine learning, and so on. [...] About Python\"}, {\"url\": \"https://www.python.org/\", \"content\": \"Python is a programming language that lets you work more quickly and integrate your systems more effectively.\\\\nYou can learn to use Python and see almost immediate gains in productivity and lower maintenance costs. Learn more about Python.\\\\n\\\\n\\\\n\\\\n\\\\nDownloads\\\\n\\\\nAll releases\\\\nSource code\\\\nWindows\\\\nmacOS\\\\nOther Platforms\\\\nLicense\\\\nAlternative Implementations [...] Python is a programming language that lets you work quickly and integrate systems more effectively. Learn More\\\\nJoin us in Pittsburgh, PA starting May 14, 2025. Grab your ticket today before we sell out! \\xa0\\xa0REGISTER FOR PYCON US!\\\\nGet Started\\\\nWhether you\\'re new to programming or an experienced developer, it\\'s easy to learn and use Python.\\\\nStart with our Beginner’s Guide\\\\nDownload\\\\nPython source code and installers are available for download for all versions!\\\\nLatest: Python 3.13.3\\\\nDocs\"}, {\"url\": \"https://en.wikipedia.org/wiki/Python_(programming_language)\", \"content\": \"Python is a high-level, general-purpose programming language. Its design philosophy emphasizes code readability with the use of significant indentation.[33]\\\\nPython is dynamically type-checked and garbage-collected. It supports multiple programming paradigms, including structured (particularly procedural), object-oriented and functional programming. It is often described as a \\\\\"batteries included\\\\\" language due to its comprehensive standard library.[34][35] [...] Python is a multi-paradigm programming language. Object-oriented programming and structured programming are fully supported, and many of their features support functional programming and aspect-oriented programming (including metaprogramming[72] and metaobjects).[73] Many other paradigms are supported via extensions, including design by contract[74][75] and logic programming.[76] Python is often referred to as a \\'glue language\\'[77] because it can seamlessly integrate components written in other [...] Python allows programmers to define their own types using classes, most often for object-oriented programming. New instances of classes are constructed by calling the class, for example, SpamClass() or EggsClass()); the classes are instances of the metaclass type (which is an instance of itself), thereby allowing metaprogramming and reflection.\"}]', name='tavily_search_results_json', id='bc7b830c-721f-473c-b011-49d8096072d2', tool_call_id='call_qRb2Ws2Su12qOfHQG3VZ2e6b'),\n",
       " AIMessage(content='Python is a high-level, general-purpose programming language developed by Guido van Rossum and made available to the public in 1991. It is widely used for web development and can be utilized for creating mobile apps, online apps, tools, data analytics, machine learning, and more. Python\\'s source code is freely available and can be used for commercial purposes without restrictions.\\n\\nPython emphasizes code readability with significant indentation, supports multiple programming paradigms such as structured, object-oriented, and functional programming, and is known for its comprehensive standard library. It is often referred to as a \"batteries included\" language due to the wealth of tools and libraries available.\\n\\nIf you want to learn more about Python, you can visit the official website at [Python.org](https://www.python.org/) or explore resources like tutorials and documentation to get started with this versatile programming language.', response_metadata={'token_usage': {'completion_tokens': 176, 'prompt_tokens': 692, 'total_tokens': 868, 'completion_tokens_details': {'accepted_prediction_tokens': 0, 'audio_tokens': 0, 'reasoning_tokens': 0, 'rejected_prediction_tokens': 0}, 'prompt_tokens_details': {'audio_tokens': 0, 'cached_tokens': 0}}, 'model_name': 'gpt-3.5-turbo-0125', 'system_fingerprint': None, 'finish_reason': 'stop', 'logprobs': None}, id='run-aa215674-6914-40ed-95f4-da9ed1ccf7fd-0', usage_metadata={'input_tokens': 692, 'output_tokens': 176, 'total_tokens': 868})]"
      ]
     },
     "execution_count": 9,
     "metadata": {},
     "output_type": "execute_result"
    }
   ],
   "source": [
    "from langchain_core.messages import HumanMessage\n",
    "\n",
    "response = agent_executor.invoke({\"messages\": [HumanMessage(content=\"What is Python?\")]})\n",
    "\n",
    "response[\"messages\"]"
   ]
  },
  {
   "cell_type": "code",
   "execution_count": 10,
   "metadata": {},
   "outputs": [
    {
     "name": "stdout",
     "output_type": "stream",
     "text": [
      "{'agent': {'messages': [AIMessage(content='', additional_kwargs={'tool_calls': [{'id': 'call_lQZOOofWcehTdUgAuRKHi78F', 'function': {'arguments': '{\"query\":\"India Pakistan war 2025 news\"}', 'name': 'tavily_search_results_json'}, 'type': 'function'}]}, response_metadata={'token_usage': {'completion_tokens': 24, 'prompt_tokens': 96, 'total_tokens': 120, 'completion_tokens_details': {'accepted_prediction_tokens': 0, 'audio_tokens': 0, 'reasoning_tokens': 0, 'rejected_prediction_tokens': 0}, 'prompt_tokens_details': {'audio_tokens': 0, 'cached_tokens': 0}}, 'model_name': 'gpt-3.5-turbo-0125', 'system_fingerprint': None, 'finish_reason': 'tool_calls', 'logprobs': None}, id='run-d55eeabe-009c-4c7c-9cb0-257659504902-0', tool_calls=[{'name': 'tavily_search_results_json', 'args': {'query': 'India Pakistan war 2025 news'}, 'id': 'call_lQZOOofWcehTdUgAuRKHi78F', 'type': 'tool_call'}], usage_metadata={'input_tokens': 96, 'output_tokens': 24, 'total_tokens': 120})]}}\n",
      "----\n",
      "{'tools': {'messages': [ToolMessage(content='[{\"url\": \"https://en.wikipedia.org/wiki/2025_India%E2%80%93Pakistan_crisis\", \"content\": \"^\\\\\"India-Pakistan conflict: 430 flights cancelled, 27 airports to remain shut in India till May 10\\\\\". Gulf News. IANS. 8 May 2025. Retrieved 8 May 2025.\\\\n^\\\\\"Flights avoid Pakistan airspace after India\\'s pre-dawn missile strikes\\\\\". The Independent. 8 May 2025. Retrieved 8 May 2025.\\\\n^\\\\\"Pakistani stars fire back at India\\'s war talk, call for peace with strength\\\\\". The News. Retrieved 4 May 2025.\\\\n^\\\\\"India-Pakistan conflict: \\'We need to stand united\\'\\\\\". BBC. 9 May 2025. [...] ^\\\\\"Border Tensions Update: Indian Army Responds to Pakistan Firing at LoC\\\\\". Deccan Herald. PTI. 25 April 2025. Retrieved 25 April 2025.\\\\n^\\\\\"India, Pakistan trade gunfire as tensions rise over deadly Kashmir attack\\\\\". Al Jazeera. Archived from the original on 25 April 2025. Retrieved 25 April 2025.\\\\n^\\\\\"Pak troops resorts to unprovoked firing along LoC in 8 sectors across J-K, Indian Army retaliates\\\\\". The Hindu. 6 May 2025. ISSN0971-751X. Retrieved 6 May 2025. [...] ^\\\\\"Another Indian quadcopter shot down by Pakistan Army near LOC\\\\\". The Express Tribune. 29 April 2025. Archived from the original on 29 April 2025. Retrieved 30 April 2025.\\\\n^\\\\\"Pakistan shoots down 2nd Indian quadcopter over airspace violation\\\\\". Xinhua. Retrieved 30 April 2025.\\\\n^Naqash, Tariq (30 April 2025). \\\\\"Two Indian drones shot down near LoC\\\\\". Dawn. Retrieved 30 April 2025.\\\\n^\\\\\"Pakistan defence minister says military incursion by India is imminent\\\\\". Reuters.\"}, {\"url\": \"https://www.indiatoday.in/india/story/india-pakistan-news-operation-sindoor-attack-jammu-border-pahalgam-terrorist-post-2726795-2025-05-19\", \"content\": \"On May 10, Pakistan approached India seeking a ceasefire. Following discussions at the military level, both countries reached an understanding to halt hostilities.Published By: Ajmal Published On: May 19, 2025Tune InMust Watch\\\\n\\\\nIN THIS STORY\\\\n\\\\nAlso Watch\\\\n\\\\nHimanta Sarma Accuses Congress\\' Gaurav Gogoi Of Pakistan Visit On ISI Invitation\\\\n\\\\nIndia\\'s Akash missiles, L-70 guns saved Golden Temple during Pakistan\\'s attack\\\\n\\\\nWatch: Made-in-India armoured jeep used to fire missiles on Pak posts\"}]', name='tavily_search_results_json', tool_call_id='call_lQZOOofWcehTdUgAuRKHi78F')]}}\n",
      "----\n",
      "{'agent': {'messages': [AIMessage(content=\"The latest news regarding the India-Pakistan conflict in 2025 includes the following updates:\\n\\n1. **India-Pakistan conflict:** There have been reports of 430 flights being cancelled, and 27 airports remaining shut in India until May 10. Flights are avoiding Pakistan airspace after India's pre-dawn missile strikes. Pakistani stars have responded to India's war talk by calling for peace with strength. Both countries have experienced border tensions, with the Indian Army responding to Pakistan firing at the Line of Control (LoC). Pakistan has shot down Indian quadcopters near the LoC, leading to further escalation. [Source: Gulf News, The Independent, The News, BBC, Deccan Herald, Al Jazeera, The Hindu, The Express Tribune, Xinhua, Dawn, Reuters]\\n\\n2. **Ceasefire Agreement:** On May 10, Pakistan approached India seeking a ceasefire. Following discussions at the military level, both countries reached an understanding to halt hostilities. [Source: India Today]\\n\\nFor more detailed information, you can refer to the provided sources:\\n1. [Wikipedia - 2025 India-Pakistan Crisis](https://en.wikipedia.org/wiki/2025_India%E2%80%93Pakistan_crisis)\\n2. [India Today - Operation Sindoor Attack](https://www.indiatoday.in/india/story/india-pakistan-news-operation-sindoor-attack-jammu-border-pahalgam-terrorist-post-2726795-2025-05-19)\", response_metadata={'token_usage': {'completion_tokens': 311, 'prompt_tokens': 750, 'total_tokens': 1061, 'completion_tokens_details': {'accepted_prediction_tokens': 0, 'audio_tokens': 0, 'reasoning_tokens': 0, 'rejected_prediction_tokens': 0}, 'prompt_tokens_details': {'audio_tokens': 0, 'cached_tokens': 0}}, 'model_name': 'gpt-3.5-turbo-0125', 'system_fingerprint': None, 'finish_reason': 'stop', 'logprobs': None}, id='run-0deac7b4-9602-4a19-aa9d-176edb2f587f-0', usage_metadata={'input_tokens': 750, 'output_tokens': 311, 'total_tokens': 1061})]}}\n",
      "----\n"
     ]
    }
   ],
   "source": [
    "for chunk in agent_executor.stream(\n",
    "    {\"messages\": [HumanMessage(content=\"Tell me the lastest news of India and pakistan war in 2025\")]}\n",
    "):\n",
    "    print(chunk)\n",
    "    print(\"----\")"
   ]
  },
  {
   "cell_type": "markdown",
   "metadata": {},
   "source": [
    "## Adding memory\n",
    "* Adding memory in LangGraph is very similar to what we did with LangChain."
   ]
  },
  {
   "cell_type": "code",
   "execution_count": 11,
   "metadata": {},
   "outputs": [],
   "source": [
    "from langgraph.checkpoint.memory import MemorySaver\n",
    "\n",
    "memory = MemorySaver()"
   ]
  },
  {
   "cell_type": "code",
   "execution_count": 12,
   "metadata": {},
   "outputs": [],
   "source": [
    "agent_executor = create_react_agent(llm, tools, checkpointer=memory)\n",
    "\n",
    "config = {\"configurable\": {\"thread_id\": \"001\"}}"
   ]
  },
  {
   "cell_type": "code",
   "execution_count": 15,
   "metadata": {},
   "outputs": [
    {
     "name": "stdout",
     "output_type": "stream",
     "text": [
      "{'agent': {'messages': [AIMessage(content='Spain won the 2024 soccer Eurocup by defeating England with a 2-1 victory in the final. Spain secured their record fourth European Championship title in this tournament.', response_metadata={'token_usage': {'completion_tokens': 36, 'prompt_tokens': 1793, 'total_tokens': 1829, 'completion_tokens_details': {'accepted_prediction_tokens': 0, 'audio_tokens': 0, 'reasoning_tokens': 0, 'rejected_prediction_tokens': 0}, 'prompt_tokens_details': {'audio_tokens': 0, 'cached_tokens': 0}}, 'model_name': 'gpt-3.5-turbo-0125', 'system_fingerprint': None, 'finish_reason': 'stop', 'logprobs': None}, id='run-d8459d0a-653b-4cdf-a648-2926734ef932-0', usage_metadata={'input_tokens': 1793, 'output_tokens': 36, 'total_tokens': 1829})]}}\n",
      "----\n"
     ]
    }
   ],
   "source": [
    "for chunk in agent_executor.stream(\n",
    "    {\"messages\": [HumanMessage(content=\"Who won the 2024 soccer Eurocup?\")]}, config\n",
    "):\n",
    "    print(chunk)\n",
    "    print(\"----\")"
   ]
  },
  {
   "cell_type": "code",
   "execution_count": 16,
   "metadata": {},
   "outputs": [
    {
     "name": "stdout",
     "output_type": "stream",
     "text": [
      "{'agent': {'messages': [AIMessage(content=\"The top stars of the Spain national team, who won the 2024 soccer Eurocup, included players like Mikel Oyarzabal, Nico Williams, and Lamin Yamad. These players made significant contributions to Spain's victory in the tournament.\", response_metadata={'token_usage': {'completion_tokens': 52, 'prompt_tokens': 1846, 'total_tokens': 1898, 'completion_tokens_details': {'accepted_prediction_tokens': 0, 'audio_tokens': 0, 'reasoning_tokens': 0, 'rejected_prediction_tokens': 0}, 'prompt_tokens_details': {'audio_tokens': 0, 'cached_tokens': 0}}, 'model_name': 'gpt-3.5-turbo-0125', 'system_fingerprint': None, 'finish_reason': 'stop', 'logprobs': None}, id='run-eb20a8b8-c2bf-4a79-9332-83ef528e72f0-0', usage_metadata={'input_tokens': 1846, 'output_tokens': 52, 'total_tokens': 1898})]}}\n",
      "----\n"
     ]
    }
   ],
   "source": [
    "for chunk in agent_executor.stream(\n",
    "    {\"messages\": [HumanMessage(content=\"Who were the top stars of that winner team?\")]}, config\n",
    "):\n",
    "    print(chunk)\n",
    "    print(\"----\")"
   ]
  },
  {
   "cell_type": "code",
   "execution_count": 17,
   "metadata": {},
   "outputs": [
    {
     "name": "stdout",
     "output_type": "stream",
     "text": [
      "{'agent': {'messages': [AIMessage(content='You mentioned the soccer team \"Real Madrid\" in our previous conversation. Would you like to know more about them or have specific questions related to Real Madrid?', response_metadata={'token_usage': {'completion_tokens': 32, 'prompt_tokens': 89, 'total_tokens': 121, 'completion_tokens_details': {'accepted_prediction_tokens': 0, 'audio_tokens': 0, 'reasoning_tokens': 0, 'rejected_prediction_tokens': 0}, 'prompt_tokens_details': {'audio_tokens': 0, 'cached_tokens': 0}}, 'model_name': 'gpt-3.5-turbo-0125', 'system_fingerprint': None, 'finish_reason': 'stop', 'logprobs': None}, id='run-a9fca9bc-606c-41d0-b16f-df0cf1c4f5e9-0', usage_metadata={'input_tokens': 89, 'output_tokens': 32, 'total_tokens': 121})]}}\n",
      "----\n"
     ]
    }
   ],
   "source": [
    "config = {\"configurable\": {\"thread_id\": \"002\"}}\n",
    "for chunk in agent_executor.stream(\n",
    "    {\"messages\": [HumanMessage(content=\"About what soccer team we were talking?\")]}, config\n",
    "):\n",
    "    print(chunk)\n",
    "    print(\"----\")"
   ]
  },
  {
   "cell_type": "code",
   "execution_count": null,
   "metadata": {},
   "outputs": [],
   "source": []
  }
 ],
 "metadata": {
  "kernelspec": {
   "display_name": "llmapp",
   "language": "python",
   "name": "python3"
  },
  "language_info": {
   "codemirror_mode": {
    "name": "ipython",
    "version": 3
   },
   "file_extension": ".py",
   "mimetype": "text/x-python",
   "name": "python",
   "nbconvert_exporter": "python",
   "pygments_lexer": "ipython3",
   "version": "3.11.11"
  }
 },
 "nbformat": 4,
 "nbformat_minor": 2
}
